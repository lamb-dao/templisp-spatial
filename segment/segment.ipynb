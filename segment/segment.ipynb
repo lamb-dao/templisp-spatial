{
 "cells": [
  {
   "cell_type": "code",
   "execution_count": 1,
   "id": "1239531a-f725-4a89-9f5d-6a649939a9e5",
   "metadata": {},
   "outputs": [],
   "source": [
    "# geosam\n",
    "import os\n",
    "import leafmap\n",
    "from samgeo import SamGeo\n",
    "\n",
    "import torch\n",
    "\n",
    "# image conversion\n",
    "import rasterio\n",
    "import numpy as np\n",
    "from skimage import img_as_ubyte\n"
   ]
  },
  {
   "cell_type": "code",
   "execution_count": 2,
   "id": "ff618cf8-264c-4d96-8dc6-0e01405e8380",
   "metadata": {},
   "outputs": [],
   "source": [
    "m = leafmap.Map(center=[49.8653, -99.981], zoom=20, height=\"500px\")\n",
    "m.add_basemap(\"SATELLITE\")\n",
    "# m"
   ]
  },
  {
   "cell_type": "code",
   "execution_count": 3,
   "id": "33ca9535-eccc-47e1-9485-ed60b9ec2a35",
   "metadata": {},
   "outputs": [
    {
     "name": "stdout",
     "output_type": "stream",
     "text": [
      "[-99.9815, 49.8653, -99.9803, 49.8654]\n"
     ]
    }
   ],
   "source": [
    "# draw polygon to set m.user_roi\n",
    "\n",
    "bbox=m.user_roi_bounds()\n",
    "if bbox is None:\n",
    "    bbox = [-99.9815, 49.8653, -99.9803, 49.8654]\n",
    "print(bbox)"
   ]
  },
  {
   "cell_type": "code",
   "execution_count": 4,
   "id": "96a67f31-8015-4b94-835e-993d34dbf2b9",
   "metadata": {},
   "outputs": [],
   "source": [
    "## initialize sam\n",
    "\n",
    "device = 'cuda' if torch.cuda.is_available() else 'cpu'\n",
    "sam = SamGeo(\n",
    "    model_type='vit_h', # can be vit_h 2.4G, vit_l 1.2G, vit_b 358M\n",
    "    device=device,\n",
    "    automatic=False,\n",
    "    sam_kwargs=None,\n",
    ")"
   ]
  },
  {
   "cell_type": "code",
   "execution_count": 6,
   "id": "59a1a303-989a-49f1-8603-57b3c12f494e",
   "metadata": {},
   "outputs": [
    {
     "data": {
      "text/plain": [
       "'\\nkwargs\\n sam_kwargs (dict, optional): Optional arguments for fine-tuning the SAM model. Defaults to None.\\n                The available arguments with default values are listed below. See https://bit.ly/410RV0v for more details.\\n\\n                points_per_side: Optional[int] = 32,\\n                points_per_batch: int = 64,\\n                pred_iou_thresh: float = 0.88,\\n                stability_score_thresh: float = 0.95,\\n                stability_score_offset: float = 1.0,\\n                box_nms_thresh: float = 0.7,\\n                crop_n_layers: int = 0,\\n                crop_nms_thresh: float = 0.7,\\n                crop_overlap_ratio: float = 512 / 1500,\\n                crop_n_points_downscale_factor: int = 1,\\n                point_grids: Optional[List[np.ndarray]] = None,\\n                min_mask_region_area: int = 0,\\n                output_mode: str = \"binary_mask\",\\n\\n        Using a SAM model, generates masks for the entire image.\\n        Generates a grid of point prompts over the image, then filters\\n        low quality and duplicate masks. The default settings are chosen\\n        for SAM with a ViT-H backbone.\\n\\n        Arguments:\\n          model (Sam): The SAM model to use for mask prediction.\\n          points_per_side (int or None): The number of points to be sampled\\n            along one side of the image. The total number of points is\\n            points_per_side**2. If None, \\'point_grids\\' must provide explicit\\n            point sampling.\\n          points_per_batch (int): Sets the number of points run simultaneously\\n            by the model. Higher numbers may be faster but use more GPU memory.\\n          pred_iou_thresh (float): A filtering threshold in [0,1], using the\\n            model\\'s predicted mask quality.\\n          stability_score_thresh (float): A filtering threshold in [0,1], using\\n            the stability of the mask under changes to the cutoff used to binarize\\n            the model\\'s mask predictions.\\n          stability_score_offset (float): The amount to shift the cutoff when\\n            calculated the stability score.\\n          box_nms_thresh (float): The box IoU cutoff used by non-maximal\\n            suppression to filter duplicate masks.\\n          crop_n_layers (int): If >0, mask prediction will be run again on\\n            crops of the image. Sets the number of layers to run, where each\\n            layer has 2**i_layer number of image crops.\\n          crop_nms_thresh (float): The box IoU cutoff used by non-maximal\\n            suppression to filter duplicate masks between different crops.\\n          crop_overlap_ratio (float): Sets the degree to which crops overlap.\\n            In the first crop layer, crops will overlap by this fraction of\\n            the image length. Later layers with more crops scale down this overlap.\\n          crop_n_points_downscale_factor (int): The number of points-per-side\\n            sampled in layer n is scaled down by crop_n_points_downscale_factor**n.\\n          point_grids (list(np.ndarray) or None): A list over explicit grids\\n            of points used for sampling, normalized to [0,1]. The nth grid in the\\n            list is used in the nth crop layer. Exclusive with points_per_side.\\n          min_mask_region_area (int): If >0, postprocessing will be applied\\n            to remove disconnected regions and holes in masks with area smaller\\n            than min_mask_region_area. Requires opencv.\\n          output_mode (str): The form masks are returned in. Can be \\'binary_mask\\',\\n            \\'uncompressed_rle\\', or \\'coco_rle\\'. \\'coco_rle\\' requires pycocotools.\\n            For large resolutions, \\'binary_mask\\' may consume large amounts of\\n            memory.\\n        '"
      ]
     },
     "execution_count": 6,
     "metadata": {},
     "output_type": "execute_result"
    }
   ],
   "source": [
    "\"\"\"\n",
    "kwargs\n",
    " sam_kwargs (dict, optional): Optional arguments for fine-tuning the SAM model. Defaults to None.\n",
    "                The available arguments with default values are listed below. See https://bit.ly/410RV0v for more details.\n",
    "\n",
    "                points_per_side: Optional[int] = 32,\n",
    "                points_per_batch: int = 64,\n",
    "                pred_iou_thresh: float = 0.88,\n",
    "                stability_score_thresh: float = 0.95,\n",
    "                stability_score_offset: float = 1.0,\n",
    "                box_nms_thresh: float = 0.7,\n",
    "                crop_n_layers: int = 0,\n",
    "                crop_nms_thresh: float = 0.7,\n",
    "                crop_overlap_ratio: float = 512 / 1500,\n",
    "                crop_n_points_downscale_factor: int = 1,\n",
    "                point_grids: Optional[List[np.ndarray]] = None,\n",
    "                min_mask_region_area: int = 0,\n",
    "                output_mode: str = \"binary_mask\",\n",
    "\n",
    "        Using a SAM model, generates masks for the entire image.\n",
    "        Generates a grid of point prompts over the image, then filters\n",
    "        low quality and duplicate masks. The default settings are chosen\n",
    "        for SAM with a ViT-H backbone.\n",
    "\n",
    "        Arguments:\n",
    "          model (Sam): The SAM model to use for mask prediction.\n",
    "          points_per_side (int or None): The number of points to be sampled\n",
    "            along one side of the image. The total number of points is\n",
    "            points_per_side**2. If None, 'point_grids' must provide explicit\n",
    "            point sampling.\n",
    "          points_per_batch (int): Sets the number of points run simultaneously\n",
    "            by the model. Higher numbers may be faster but use more GPU memory.\n",
    "          pred_iou_thresh (float): A filtering threshold in [0,1], using the\n",
    "            model's predicted mask quality.\n",
    "          stability_score_thresh (float): A filtering threshold in [0,1], using\n",
    "            the stability of the mask under changes to the cutoff used to binarize\n",
    "            the model's mask predictions.\n",
    "          stability_score_offset (float): The amount to shift the cutoff when\n",
    "            calculated the stability score.\n",
    "          box_nms_thresh (float): The box IoU cutoff used by non-maximal\n",
    "            suppression to filter duplicate masks.\n",
    "          crop_n_layers (int): If >0, mask prediction will be run again on\n",
    "            crops of the image. Sets the number of layers to run, where each\n",
    "            layer has 2**i_layer number of image crops.\n",
    "          crop_nms_thresh (float): The box IoU cutoff used by non-maximal\n",
    "            suppression to filter duplicate masks between different crops.\n",
    "          crop_overlap_ratio (float): Sets the degree to which crops overlap.\n",
    "            In the first crop layer, crops will overlap by this fraction of\n",
    "            the image length. Later layers with more crops scale down this overlap.\n",
    "          crop_n_points_downscale_factor (int): The number of points-per-side\n",
    "            sampled in layer n is scaled down by crop_n_points_downscale_factor**n.\n",
    "          point_grids (list(np.ndarray) or None): A list over explicit grids\n",
    "            of points used for sampling, normalized to [0,1]. The nth grid in the\n",
    "            list is used in the nth crop layer. Exclusive with points_per_side.\n",
    "          min_mask_region_area (int): If >0, postprocessing will be applied\n",
    "            to remove disconnected regions and holes in masks with area smaller\n",
    "            than min_mask_region_area. Requires opencv.\n",
    "          output_mode (str): The form masks are returned in. Can be 'binary_mask',\n",
    "            'uncompressed_rle', or 'coco_rle'. 'coco_rle' requires pycocotools.\n",
    "            For large resolutions, 'binary_mask' may consume large amounts of\n",
    "            memory.\n",
    "        \"\"\""
   ]
  },
  {
   "cell_type": "code",
   "execution_count": 8,
   "id": "d9c635a8-1d1e-46f3-ac4d-1771a56fccc0",
   "metadata": {},
   "outputs": [],
   "source": [
    "# conversion function\n",
    "def convert_to_8bit(file_path, out_path=None):\n",
    "    \"converts 32 bit float geotiffs to 8 bit for geosam\"\n",
    "    with rasterio.open(file_path) as src:\n",
    "        img_32 = src.read()\n",
    "        metadata = src.meta\n",
    "        # convert\n",
    "        img_8 = np.zeros((3, src.height, src.width), dtype=np.uint8)\n",
    "        for band in range(3):\n",
    "            band_data = img_32[band]\n",
    "            img_8[band] = img_as_ubyte(band_data)\n",
    "\n",
    "        metadata.update({'dtype': 'uint8',\n",
    "                         'driver': 'GTiff',})\n",
    "\n",
    "        if out_path is None:\n",
    "            base, ext = os.path.split(file_path)\n",
    "            out_path = f\"{base}/8bit_{ext}\"\n",
    "         \n",
    "        if os.path.exists(out_path):\n",
    "            os.remove(out_path)\n",
    "\n",
    "        \n",
    "        with rasterio.open(out_path, 'w', **metadata) as dst:\n",
    "           dst.write(img_8)\n",
    "        \n",
    "        return out_path\n",
    "\n",
    "def convert_to_8bit_single(file_path, out_path=None):\n",
    "    \"converts 32 bit float geotiffs to 8 bit for geosam\"\n",
    "    with rasterio.open(file_path) as src:\n",
    "        img_32 = src.read()\n",
    "        metadata = src.meta\n",
    "        # convert\n",
    "        img_8 = np.zeros((3, src.height, src.width), dtype=np.uint8)\n",
    "        for band in range(1):\n",
    "            band_data = img_32[band]\n",
    "            img_8[band] = img_as_ubyte(band_data)\n",
    "\n",
    "        metadata.update({'dtype': 'uint8',\n",
    "                         'driver': 'GTiff',})\n",
    "\n",
    "        if out_path is None:\n",
    "            base, ext = os.path.split(file_path)\n",
    "            out_path = f\"{base}/8bit_{ext}\"\n",
    "         \n",
    "        if os.path.exists(out_path):\n",
    "            os.remove(out_path)\n",
    "\n",
    "        \n",
    "        with rasterio.open(out_path, 'w', **metadata) as dst:\n",
    "           dst.write(img_8)\n",
    "        \n",
    "        return out_path"
   ]
  },
  {
   "cell_type": "code",
   "execution_count": 6,
   "id": "97c6bd9e-aa0c-4092-b2ed-560dbed7d0d4",
   "metadata": {},
   "outputs": [],
   "source": [
    "# image selection function\n",
    "def select_image(image):\n",
    "    # display selected image\n",
    "    m.layers[-1].visible = False\n",
    "    m.add_raster(image, layer_name=\"Image\")\n",
    "\n",
    "    # set the image to segment\n",
    "    sam.set_image(image)\n",
    "    print(f\"set image: {image}\")\n"
   ]
  },
  {
   "cell_type": "code",
   "execution_count": 7,
   "id": "fc2770fe-2008-499e-9c42-be24832cabbb",
   "metadata": {},
   "outputs": [],
   "source": [
    "\n",
    "# set images\n",
    "image1_32bit = '/bulk-1/rasters/2023-07-04_composite.tif'\n",
    "image2_32bit = '/bulk-1/rasters/2023-07-11_composite.tif'\n",
    "image3_32bit = '/bulk-1/rasters/2023-07-17_composite.tif'\n",
    "image4_32bit = '/bulk-1/rasters/2023-07-24_composite.tif'\n",
    "image5_32bit = '/bulk-1/rasters/2023-07-31_composite.tif'\n",
    "image6_32bit = '/bulk-1/rasters/2023-08-08_composite.tif'\n",
    "image7_32bit = '/bulk-1/rasters/2023-08-14_composite.tif'\n",
    "image8_32bit = '/bulk-1/rasters/2023-08-22_composite.tif'\n",
    "image9_32bit = '/bulk-1/rasters/2023-08-29_composite.tif'\n",
    "image10_32bit = '/bulk-1/rasters/2023-09-05_composite.tif'\n",
    "\n",
    "\n",
    "# convert images\n",
    "image1 = convert_to_8bit(image1_32bit)\n",
    "image2 = convert_to_8bit(image2_32bit)\n",
    "image3 = convert_to_8bit(image3_32bit)\n",
    "image4 = convert_to_8bit(image4_32bit)\n",
    "image5 = convert_to_8bit(image5_32bit)\n",
    "image6 = convert_to_8bit(image6_32bit)\n",
    "image7 = convert_to_8bit(image7_32bit)\n",
    "image8 = convert_to_8bit(image8_32bit)\n",
    "image9 = convert_to_8bit(image9_32bit)\n",
    "image10 = convert_to_8bit(image10_32bit)"
   ]
  },
  {
   "cell_type": "code",
   "execution_count": 10,
   "id": "5edb28b3-d0bd-4c70-8e10-eee92c3ede26",
   "metadata": {},
   "outputs": [
    {
     "ename": "ValueError",
     "evalue": "Images of type float must be between -1 and 1.",
     "output_type": "error",
     "traceback": [
      "\u001b[0;31m---------------------------------------------------------------------------\u001b[0m",
      "\u001b[0;31mValueError\u001b[0m                                Traceback (most recent call last)",
      "Cell \u001b[0;32mIn[10], line 8\u001b[0m\n\u001b[1;32m      3\u001b[0m image10_32bit \u001b[38;5;241m=\u001b[39m \u001b[38;5;124m'\u001b[39m\u001b[38;5;124m/bulk-1/rasters/2023-09-05_index_nir.tif\u001b[39m\u001b[38;5;124m'\u001b[39m\n\u001b[1;32m      7\u001b[0m \u001b[38;5;66;03m# convert images\u001b[39;00m\n\u001b[0;32m----> 8\u001b[0m image10 \u001b[38;5;241m=\u001b[39m \u001b[43mconvert_to_8bit_single\u001b[49m\u001b[43m(\u001b[49m\u001b[43mimage10_32bit\u001b[49m\u001b[43m)\u001b[49m\n",
      "Cell \u001b[0;32mIn[8], line 38\u001b[0m, in \u001b[0;36mconvert_to_8bit_single\u001b[0;34m(file_path, out_path)\u001b[0m\n\u001b[1;32m     36\u001b[0m \u001b[38;5;28;01mfor\u001b[39;00m band \u001b[38;5;129;01min\u001b[39;00m \u001b[38;5;28mrange\u001b[39m(\u001b[38;5;241m1\u001b[39m):\n\u001b[1;32m     37\u001b[0m     band_data \u001b[38;5;241m=\u001b[39m img_32[band]\n\u001b[0;32m---> 38\u001b[0m     img_8[band] \u001b[38;5;241m=\u001b[39m \u001b[43mimg_as_ubyte\u001b[49m\u001b[43m(\u001b[49m\u001b[43mband_data\u001b[49m\u001b[43m)\u001b[49m\n\u001b[1;32m     40\u001b[0m metadata\u001b[38;5;241m.\u001b[39mupdate({\u001b[38;5;124m'\u001b[39m\u001b[38;5;124mdtype\u001b[39m\u001b[38;5;124m'\u001b[39m: \u001b[38;5;124m'\u001b[39m\u001b[38;5;124muint8\u001b[39m\u001b[38;5;124m'\u001b[39m,\n\u001b[1;32m     41\u001b[0m                  \u001b[38;5;124m'\u001b[39m\u001b[38;5;124mdriver\u001b[39m\u001b[38;5;124m'\u001b[39m: \u001b[38;5;124m'\u001b[39m\u001b[38;5;124mGTiff\u001b[39m\u001b[38;5;124m'\u001b[39m,})\n\u001b[1;32m     43\u001b[0m \u001b[38;5;28;01mif\u001b[39;00m out_path \u001b[38;5;129;01mis\u001b[39;00m \u001b[38;5;28;01mNone\u001b[39;00m:\n",
      "File \u001b[0;32m~/.conda/envs/geo/lib/python3.13/site-packages/skimage/util/dtype.py:576\u001b[0m, in \u001b[0;36mimg_as_ubyte\u001b[0;34m(image, force_copy)\u001b[0m\n\u001b[1;32m    555\u001b[0m \u001b[38;5;28;01mdef\u001b[39;00m\u001b[38;5;250m \u001b[39m\u001b[38;5;21mimg_as_ubyte\u001b[39m(image, force_copy\u001b[38;5;241m=\u001b[39m\u001b[38;5;28;01mFalse\u001b[39;00m):\n\u001b[1;32m    556\u001b[0m \u001b[38;5;250m    \u001b[39m\u001b[38;5;124;03m\"\"\"Convert an image to 8-bit unsigned integer format.\u001b[39;00m\n\u001b[1;32m    557\u001b[0m \n\u001b[1;32m    558\u001b[0m \u001b[38;5;124;03m    Parameters\u001b[39;00m\n\u001b[0;32m   (...)\u001b[0m\n\u001b[1;32m    574\u001b[0m \n\u001b[1;32m    575\u001b[0m \u001b[38;5;124;03m    \"\"\"\u001b[39;00m\n\u001b[0;32m--> 576\u001b[0m     \u001b[38;5;28;01mreturn\u001b[39;00m \u001b[43m_convert\u001b[49m\u001b[43m(\u001b[49m\u001b[43mimage\u001b[49m\u001b[43m,\u001b[49m\u001b[43m \u001b[49m\u001b[43mnp\u001b[49m\u001b[38;5;241;43m.\u001b[39;49m\u001b[43muint8\u001b[49m\u001b[43m,\u001b[49m\u001b[43m \u001b[49m\u001b[43mforce_copy\u001b[49m\u001b[43m)\u001b[49m\n",
      "File \u001b[0;32m~/.conda/envs/geo/lib/python3.13/site-packages/skimage/util/dtype.py:312\u001b[0m, in \u001b[0;36m_convert\u001b[0;34m(image, dtype, force_copy, uniform)\u001b[0m\n\u001b[1;32m    309\u001b[0m     \u001b[38;5;28;01mreturn\u001b[39;00m image\u001b[38;5;241m.\u001b[39mastype(dtype_out)\n\u001b[1;32m    311\u001b[0m \u001b[38;5;28;01mif\u001b[39;00m np\u001b[38;5;241m.\u001b[39mmin(image) \u001b[38;5;241m<\u001b[39m \u001b[38;5;241m-\u001b[39m\u001b[38;5;241m1.0\u001b[39m \u001b[38;5;129;01mor\u001b[39;00m np\u001b[38;5;241m.\u001b[39mmax(image) \u001b[38;5;241m>\u001b[39m \u001b[38;5;241m1.0\u001b[39m:\n\u001b[0;32m--> 312\u001b[0m     \u001b[38;5;28;01mraise\u001b[39;00m \u001b[38;5;167;01mValueError\u001b[39;00m(\u001b[38;5;124m\"\u001b[39m\u001b[38;5;124mImages of type float must be between -1 and 1.\u001b[39m\u001b[38;5;124m\"\u001b[39m)\n\u001b[1;32m    313\u001b[0m \u001b[38;5;66;03m# floating point -> integer\u001b[39;00m\n\u001b[1;32m    314\u001b[0m \u001b[38;5;66;03m# use float type that can represent output integer type\u001b[39;00m\n\u001b[1;32m    315\u001b[0m computation_type \u001b[38;5;241m=\u001b[39m _dtype_itemsize(\n\u001b[1;32m    316\u001b[0m     itemsize_out, dtype_in, np\u001b[38;5;241m.\u001b[39mfloat32, np\u001b[38;5;241m.\u001b[39mfloat64\n\u001b[1;32m    317\u001b[0m )\n",
      "\u001b[0;31mValueError\u001b[0m: Images of type float must be between -1 and 1."
     ]
    }
   ],
   "source": [
    "\n",
    "# set images\n",
    "\n",
    "image10_32bit = '/bulk-1/rasters/2023-09-05_index_nir.tif'\n",
    "\n",
    "\n",
    "\n",
    "# convert images\n",
    "image10 = convert_to_8bit_single(image10_32bit)"
   ]
  },
  {
   "cell_type": "code",
   "execution_count": 14,
   "id": "ae6f4c8e-1cd1-44f2-a051-5fa1b415b3aa",
   "metadata": {},
   "outputs": [
    {
     "ename": "TypeError",
     "evalue": "No such trait: LayerGroup.visible",
     "output_type": "error",
     "traceback": [
      "\u001b[0;31m---------------------------------------------------------------------------\u001b[0m",
      "\u001b[0;31mTypeError\u001b[0m                                 Traceback (most recent call last)",
      "Cell \u001b[0;32mIn[14], line 1\u001b[0m\n\u001b[0;32m----> 1\u001b[0m \u001b[43mselect_image\u001b[49m\u001b[43m(\u001b[49m\u001b[43mimage9\u001b[49m\u001b[43m)\u001b[49m\n",
      "Cell \u001b[0;32mIn[6], line 5\u001b[0m, in \u001b[0;36mselect_image\u001b[0;34m(image)\u001b[0m\n\u001b[1;32m      2\u001b[0m \u001b[38;5;28;01mdef\u001b[39;00m\u001b[38;5;250m \u001b[39m\u001b[38;5;21mselect_image\u001b[39m(image):\n\u001b[1;32m      3\u001b[0m     \u001b[38;5;66;03m# display selected image\u001b[39;00m\n\u001b[1;32m      4\u001b[0m     m\u001b[38;5;241m.\u001b[39mlayers[\u001b[38;5;241m-\u001b[39m\u001b[38;5;241m1\u001b[39m]\u001b[38;5;241m.\u001b[39mvisible \u001b[38;5;241m=\u001b[39m \u001b[38;5;28;01mFalse\u001b[39;00m\n\u001b[0;32m----> 5\u001b[0m     \u001b[43mm\u001b[49m\u001b[38;5;241;43m.\u001b[39;49m\u001b[43madd_raster\u001b[49m\u001b[43m(\u001b[49m\u001b[43mimage\u001b[49m\u001b[43m,\u001b[49m\u001b[43m \u001b[49m\u001b[43mlayer_name\u001b[49m\u001b[38;5;241;43m=\u001b[39;49m\u001b[38;5;124;43m\"\u001b[39;49m\u001b[38;5;124;43mImage\u001b[39;49m\u001b[38;5;124;43m\"\u001b[39;49m\u001b[43m)\u001b[49m\n\u001b[1;32m      7\u001b[0m     \u001b[38;5;66;03m# set the image to segment\u001b[39;00m\n\u001b[1;32m      8\u001b[0m     sam\u001b[38;5;241m.\u001b[39mset_image(image)\n",
      "File \u001b[0;32m~/.conda/envs/geo/lib/python3.13/site-packages/leafmap/leafmap.py:2400\u001b[0m, in \u001b[0;36mMap.add_raster\u001b[0;34m(self, source, indexes, colormap, vmin, vmax, nodata, attribution, layer_name, layer_index, zoom_to_layer, visible, opacity, array_args, client_args, **kwargs)\u001b[0m\n\u001b[1;32m   2384\u001b[0m tile_layer, tile_client \u001b[38;5;241m=\u001b[39m common\u001b[38;5;241m.\u001b[39mget_local_tile_layer(\n\u001b[1;32m   2385\u001b[0m     source,\n\u001b[1;32m   2386\u001b[0m     indexes\u001b[38;5;241m=\u001b[39mindexes,\n\u001b[0;32m   (...)\u001b[0m\n\u001b[1;32m   2396\u001b[0m     \u001b[38;5;241m*\u001b[39m\u001b[38;5;241m*\u001b[39mkwargs,\n\u001b[1;32m   2397\u001b[0m )\n\u001b[1;32m   2398\u001b[0m tile_layer\u001b[38;5;241m.\u001b[39mvisible \u001b[38;5;241m=\u001b[39m visible\n\u001b[0;32m-> 2400\u001b[0m \u001b[38;5;28;43mself\u001b[39;49m\u001b[38;5;241;43m.\u001b[39;49m\u001b[43madd\u001b[49m\u001b[43m(\u001b[49m\u001b[43mtile_layer\u001b[49m\u001b[43m,\u001b[49m\u001b[43m \u001b[49m\u001b[43mindex\u001b[49m\u001b[38;5;241;43m=\u001b[39;49m\u001b[43mlayer_index\u001b[49m\u001b[43m)\u001b[49m\n\u001b[1;32m   2401\u001b[0m \u001b[38;5;28;01mif\u001b[39;00m zoom_to_layer:\n\u001b[1;32m   2402\u001b[0m     \u001b[38;5;28mself\u001b[39m\u001b[38;5;241m.\u001b[39mcenter \u001b[38;5;241m=\u001b[39m tile_client\u001b[38;5;241m.\u001b[39mcenter()\n",
      "File \u001b[0;32m~/.conda/envs/geo/lib/python3.13/site-packages/leafmap/leafmap.py:260\u001b[0m, in \u001b[0;36mMap.add\u001b[0;34m(self, obj, index, **kwargs)\u001b[0m\n\u001b[1;32m    257\u001b[0m \u001b[38;5;28msuper\u001b[39m()\u001b[38;5;241m.\u001b[39madd(obj, index\u001b[38;5;241m=\u001b[39mindex)\n\u001b[1;32m    259\u001b[0m \u001b[38;5;28;01mif\u001b[39;00m \u001b[38;5;28mhasattr\u001b[39m(\u001b[38;5;28mself\u001b[39m, \u001b[38;5;124m\"\u001b[39m\u001b[38;5;124m_layer_manager_widget\u001b[39m\u001b[38;5;124m\"\u001b[39m):\n\u001b[0;32m--> 260\u001b[0m     \u001b[38;5;28;43mself\u001b[39;49m\u001b[38;5;241;43m.\u001b[39;49m\u001b[43mupdate_layer_manager\u001b[49m\u001b[43m(\u001b[49m\u001b[43m)\u001b[49m\n",
      "File \u001b[0;32m~/.conda/envs/geo/lib/python3.13/site-packages/leafmap/leafmap.py:4509\u001b[0m, in \u001b[0;36mMap.update_layer_manager\u001b[0;34m(self)\u001b[0m\n\u001b[1;32m   4506\u001b[0m \u001b[38;5;250m\u001b[39m\u001b[38;5;124;03m\"\"\"Update the Layer Manager.\"\"\"\u001b[39;00m\n\u001b[1;32m   4507\u001b[0m \u001b[38;5;28;01mfrom\u001b[39;00m\u001b[38;5;250m \u001b[39m\u001b[38;5;21;01m.\u001b[39;00m\u001b[38;5;21;01mtoolbar\u001b[39;00m\u001b[38;5;250m \u001b[39m\u001b[38;5;28;01mimport\u001b[39;00m layer_manager_gui\n\u001b[0;32m-> 4509\u001b[0m \u001b[38;5;28mself\u001b[39m\u001b[38;5;241m.\u001b[39m_layer_manager_widget\u001b[38;5;241m.\u001b[39mchildren \u001b[38;5;241m=\u001b[39m \u001b[43mlayer_manager_gui\u001b[49m\u001b[43m(\u001b[49m\n\u001b[1;32m   4510\u001b[0m \u001b[43m    \u001b[49m\u001b[38;5;28;43mself\u001b[39;49m\u001b[43m,\u001b[49m\u001b[43m \u001b[49m\u001b[43mreturn_widget\u001b[49m\u001b[38;5;241;43m=\u001b[39;49m\u001b[38;5;28;43;01mTrue\u001b[39;49;00m\n\u001b[1;32m   4511\u001b[0m \u001b[43m\u001b[49m\u001b[43m)\u001b[49m\n",
      "File \u001b[0;32m~/.conda/envs/geo/lib/python3.13/site-packages/leafmap/toolbar.py:6276\u001b[0m, in \u001b[0;36mlayer_manager_gui\u001b[0;34m(m, position, opened, return_widget)\u001b[0m\n\u001b[1;32m   6273\u001b[0m         toolbar_header\u001b[38;5;241m.\u001b[39mchildren \u001b[38;5;241m=\u001b[39m [layers_button]\n\u001b[1;32m   6275\u001b[0m layers_button\u001b[38;5;241m.\u001b[39mobserve(layers_btn_click, \u001b[38;5;124m\"\u001b[39m\u001b[38;5;124mvalue\u001b[39m\u001b[38;5;124m\"\u001b[39m)\n\u001b[0;32m-> 6276\u001b[0m \u001b[43mlayers_button\u001b[49m\u001b[38;5;241;43m.\u001b[39;49m\u001b[43mvalue\u001b[49m \u001b[38;5;241m=\u001b[39m opened\n\u001b[1;32m   6278\u001b[0m \u001b[38;5;28;01mif\u001b[39;00m \u001b[38;5;129;01mnot\u001b[39;00m \u001b[38;5;28mhasattr\u001b[39m(m, \u001b[38;5;124m\"\u001b[39m\u001b[38;5;124m_layer_manager_widget\u001b[39m\u001b[38;5;124m\"\u001b[39m):\n\u001b[1;32m   6279\u001b[0m     m\u001b[38;5;241m.\u001b[39m_layer_manager_widget \u001b[38;5;241m=\u001b[39m toolbar_footer\n",
      "File \u001b[0;32m~/.conda/envs/geo/lib/python3.13/site-packages/traitlets/traitlets.py:716\u001b[0m, in \u001b[0;36mTraitType.__set__\u001b[0;34m(self, obj, value)\u001b[0m\n\u001b[1;32m    714\u001b[0m \u001b[38;5;28;01mif\u001b[39;00m \u001b[38;5;28mself\u001b[39m\u001b[38;5;241m.\u001b[39mread_only:\n\u001b[1;32m    715\u001b[0m     \u001b[38;5;28;01mraise\u001b[39;00m TraitError(\u001b[38;5;124m'\u001b[39m\u001b[38;5;124mThe \u001b[39m\u001b[38;5;124m\"\u001b[39m\u001b[38;5;132;01m%s\u001b[39;00m\u001b[38;5;124m\"\u001b[39m\u001b[38;5;124m trait is read-only.\u001b[39m\u001b[38;5;124m'\u001b[39m \u001b[38;5;241m%\u001b[39m \u001b[38;5;28mself\u001b[39m\u001b[38;5;241m.\u001b[39mname)\n\u001b[0;32m--> 716\u001b[0m \u001b[38;5;28;43mself\u001b[39;49m\u001b[38;5;241;43m.\u001b[39;49m\u001b[43mset\u001b[49m\u001b[43m(\u001b[49m\u001b[43mobj\u001b[49m\u001b[43m,\u001b[49m\u001b[43m \u001b[49m\u001b[43mvalue\u001b[49m\u001b[43m)\u001b[49m\n",
      "File \u001b[0;32m~/.conda/envs/geo/lib/python3.13/site-packages/traitlets/traitlets.py:706\u001b[0m, in \u001b[0;36mTraitType.set\u001b[0;34m(self, obj, value)\u001b[0m\n\u001b[1;32m    702\u001b[0m     silent \u001b[38;5;241m=\u001b[39m \u001b[38;5;28;01mFalse\u001b[39;00m\n\u001b[1;32m    703\u001b[0m \u001b[38;5;28;01mif\u001b[39;00m silent \u001b[38;5;129;01mis\u001b[39;00m \u001b[38;5;129;01mnot\u001b[39;00m \u001b[38;5;28;01mTrue\u001b[39;00m:\n\u001b[1;32m    704\u001b[0m     \u001b[38;5;66;03m# we explicitly compare silent to True just in case the equality\u001b[39;00m\n\u001b[1;32m    705\u001b[0m     \u001b[38;5;66;03m# comparison above returns something other than True/False\u001b[39;00m\n\u001b[0;32m--> 706\u001b[0m     \u001b[43mobj\u001b[49m\u001b[38;5;241;43m.\u001b[39;49m\u001b[43m_notify_trait\u001b[49m\u001b[43m(\u001b[49m\u001b[38;5;28;43mself\u001b[39;49m\u001b[38;5;241;43m.\u001b[39;49m\u001b[43mname\u001b[49m\u001b[43m,\u001b[49m\u001b[43m \u001b[49m\u001b[43mold_value\u001b[49m\u001b[43m,\u001b[49m\u001b[43m \u001b[49m\u001b[43mnew_value\u001b[49m\u001b[43m)\u001b[49m\n",
      "File \u001b[0;32m~/.conda/envs/geo/lib/python3.13/site-packages/traitlets/traitlets.py:1513\u001b[0m, in \u001b[0;36mHasTraits._notify_trait\u001b[0;34m(self, name, old_value, new_value)\u001b[0m\n\u001b[1;32m   1512\u001b[0m \u001b[38;5;28;01mdef\u001b[39;00m\u001b[38;5;250m \u001b[39m\u001b[38;5;21m_notify_trait\u001b[39m(\u001b[38;5;28mself\u001b[39m, name: \u001b[38;5;28mstr\u001b[39m, old_value: t\u001b[38;5;241m.\u001b[39mAny, new_value: t\u001b[38;5;241m.\u001b[39mAny) \u001b[38;5;241m-\u001b[39m\u001b[38;5;241m>\u001b[39m \u001b[38;5;28;01mNone\u001b[39;00m:\n\u001b[0;32m-> 1513\u001b[0m     \u001b[38;5;28;43mself\u001b[39;49m\u001b[38;5;241;43m.\u001b[39;49m\u001b[43mnotify_change\u001b[49m\u001b[43m(\u001b[49m\n\u001b[1;32m   1514\u001b[0m \u001b[43m        \u001b[49m\u001b[43mBunch\u001b[49m\u001b[43m(\u001b[49m\n\u001b[1;32m   1515\u001b[0m \u001b[43m            \u001b[49m\u001b[43mname\u001b[49m\u001b[38;5;241;43m=\u001b[39;49m\u001b[43mname\u001b[49m\u001b[43m,\u001b[49m\n\u001b[1;32m   1516\u001b[0m \u001b[43m            \u001b[49m\u001b[43mold\u001b[49m\u001b[38;5;241;43m=\u001b[39;49m\u001b[43mold_value\u001b[49m\u001b[43m,\u001b[49m\n\u001b[1;32m   1517\u001b[0m \u001b[43m            \u001b[49m\u001b[43mnew\u001b[49m\u001b[38;5;241;43m=\u001b[39;49m\u001b[43mnew_value\u001b[49m\u001b[43m,\u001b[49m\n\u001b[1;32m   1518\u001b[0m \u001b[43m            \u001b[49m\u001b[43mowner\u001b[49m\u001b[38;5;241;43m=\u001b[39;49m\u001b[38;5;28;43mself\u001b[39;49m\u001b[43m,\u001b[49m\n\u001b[1;32m   1519\u001b[0m \u001b[43m            \u001b[49m\u001b[38;5;28;43mtype\u001b[39;49m\u001b[38;5;241;43m=\u001b[39;49m\u001b[38;5;124;43m\"\u001b[39;49m\u001b[38;5;124;43mchange\u001b[39;49m\u001b[38;5;124;43m\"\u001b[39;49m\u001b[43m,\u001b[49m\n\u001b[1;32m   1520\u001b[0m \u001b[43m        \u001b[49m\u001b[43m)\u001b[49m\n\u001b[1;32m   1521\u001b[0m \u001b[43m    \u001b[49m\u001b[43m)\u001b[49m\n",
      "File \u001b[0;32m~/.conda/envs/geo/lib/python3.13/site-packages/ipywidgets/widgets/widget.py:701\u001b[0m, in \u001b[0;36mWidget.notify_change\u001b[0;34m(self, change)\u001b[0m\n\u001b[1;32m    698\u001b[0m     \u001b[38;5;28;01mif\u001b[39;00m name \u001b[38;5;129;01min\u001b[39;00m \u001b[38;5;28mself\u001b[39m\u001b[38;5;241m.\u001b[39mkeys \u001b[38;5;129;01mand\u001b[39;00m \u001b[38;5;28mself\u001b[39m\u001b[38;5;241m.\u001b[39m_should_send_property(name, \u001b[38;5;28mgetattr\u001b[39m(\u001b[38;5;28mself\u001b[39m, name)):\n\u001b[1;32m    699\u001b[0m         \u001b[38;5;66;03m# Send new state to front-end\u001b[39;00m\n\u001b[1;32m    700\u001b[0m         \u001b[38;5;28mself\u001b[39m\u001b[38;5;241m.\u001b[39msend_state(key\u001b[38;5;241m=\u001b[39mname)\n\u001b[0;32m--> 701\u001b[0m \u001b[38;5;28;43msuper\u001b[39;49m\u001b[43m(\u001b[49m\u001b[43m)\u001b[49m\u001b[38;5;241;43m.\u001b[39;49m\u001b[43mnotify_change\u001b[49m\u001b[43m(\u001b[49m\u001b[43mchange\u001b[49m\u001b[43m)\u001b[49m\n",
      "File \u001b[0;32m~/.conda/envs/geo/lib/python3.13/site-packages/traitlets/traitlets.py:1525\u001b[0m, in \u001b[0;36mHasTraits.notify_change\u001b[0;34m(self, change)\u001b[0m\n\u001b[1;32m   1523\u001b[0m \u001b[38;5;28;01mdef\u001b[39;00m\u001b[38;5;250m \u001b[39m\u001b[38;5;21mnotify_change\u001b[39m(\u001b[38;5;28mself\u001b[39m, change: Bunch) \u001b[38;5;241m-\u001b[39m\u001b[38;5;241m>\u001b[39m \u001b[38;5;28;01mNone\u001b[39;00m:\n\u001b[1;32m   1524\u001b[0m \u001b[38;5;250m    \u001b[39m\u001b[38;5;124;03m\"\"\"Notify observers of a change event\"\"\"\u001b[39;00m\n\u001b[0;32m-> 1525\u001b[0m     \u001b[38;5;28;01mreturn\u001b[39;00m \u001b[38;5;28;43mself\u001b[39;49m\u001b[38;5;241;43m.\u001b[39;49m\u001b[43m_notify_observers\u001b[49m\u001b[43m(\u001b[49m\u001b[43mchange\u001b[49m\u001b[43m)\u001b[49m\n",
      "File \u001b[0;32m~/.conda/envs/geo/lib/python3.13/site-packages/traitlets/traitlets.py:1568\u001b[0m, in \u001b[0;36mHasTraits._notify_observers\u001b[0;34m(self, event)\u001b[0m\n\u001b[1;32m   1565\u001b[0m \u001b[38;5;28;01melif\u001b[39;00m \u001b[38;5;28misinstance\u001b[39m(c, EventHandler) \u001b[38;5;129;01mand\u001b[39;00m c\u001b[38;5;241m.\u001b[39mname \u001b[38;5;129;01mis\u001b[39;00m \u001b[38;5;129;01mnot\u001b[39;00m \u001b[38;5;28;01mNone\u001b[39;00m:\n\u001b[1;32m   1566\u001b[0m     c \u001b[38;5;241m=\u001b[39m \u001b[38;5;28mgetattr\u001b[39m(\u001b[38;5;28mself\u001b[39m, c\u001b[38;5;241m.\u001b[39mname)\n\u001b[0;32m-> 1568\u001b[0m \u001b[43mc\u001b[49m\u001b[43m(\u001b[49m\u001b[43mevent\u001b[49m\u001b[43m)\u001b[49m\n",
      "File \u001b[0;32m~/.conda/envs/geo/lib/python3.13/site-packages/leafmap/toolbar.py:6255\u001b[0m, in \u001b[0;36mlayer_manager_gui.<locals>.layers_btn_click\u001b[0;34m(change)\u001b[0m\n\u001b[1;32m   6249\u001b[0m         layer\u001b[38;5;241m.\u001b[39mstyle \u001b[38;5;241m=\u001b[39m {\n\u001b[1;32m   6250\u001b[0m             \u001b[38;5;124m\"\u001b[39m\u001b[38;5;124mopacity\u001b[39m\u001b[38;5;124m\"\u001b[39m: change[\u001b[38;5;124m\"\u001b[39m\u001b[38;5;124mnew\u001b[39m\u001b[38;5;124m\"\u001b[39m],\n\u001b[1;32m   6251\u001b[0m             \u001b[38;5;124m\"\u001b[39m\u001b[38;5;124mfillOpacity\u001b[39m\u001b[38;5;124m\"\u001b[39m: change[\u001b[38;5;124m\"\u001b[39m\u001b[38;5;124mnew\u001b[39m\u001b[38;5;124m\"\u001b[39m],\n\u001b[1;32m   6252\u001b[0m         }\n\u001b[1;32m   6254\u001b[0m \u001b[38;5;28;01mif\u001b[39;00m \u001b[38;5;28mhasattr\u001b[39m(layer, \u001b[38;5;124m\"\u001b[39m\u001b[38;5;124mvisible\u001b[39m\u001b[38;5;124m\"\u001b[39m):\n\u001b[0;32m-> 6255\u001b[0m     \u001b[43mwidgets\u001b[49m\u001b[38;5;241;43m.\u001b[39;49m\u001b[43mjslink\u001b[49m\u001b[43m(\u001b[49m\u001b[43m(\u001b[49m\u001b[43mlayer_chk\u001b[49m\u001b[43m,\u001b[49m\u001b[43m \u001b[49m\u001b[38;5;124;43m\"\u001b[39;49m\u001b[38;5;124;43mvalue\u001b[39;49m\u001b[38;5;124;43m\"\u001b[39;49m\u001b[43m)\u001b[49m\u001b[43m,\u001b[49m\u001b[43m \u001b[49m\u001b[43m(\u001b[49m\u001b[43mlayer\u001b[49m\u001b[43m,\u001b[49m\u001b[43m \u001b[49m\u001b[38;5;124;43m\"\u001b[39;49m\u001b[38;5;124;43mvisible\u001b[39;49m\u001b[38;5;124;43m\"\u001b[39;49m\u001b[43m)\u001b[49m\u001b[43m)\u001b[49m\n\u001b[1;32m   6257\u001b[0m \u001b[38;5;28;01mif\u001b[39;00m layer \u001b[38;5;129;01min\u001b[39;00m m\u001b[38;5;241m.\u001b[39mgeojson_layers:\n\u001b[1;32m   6258\u001b[0m     layer_opacity\u001b[38;5;241m.\u001b[39mobserve(layer_opacity_changed, \u001b[38;5;124m\"\u001b[39m\u001b[38;5;124mvalue\u001b[39m\u001b[38;5;124m\"\u001b[39m)\n",
      "File \u001b[0;32m~/.conda/envs/geo/lib/python3.13/site-packages/ipywidgets/widgets/widget_link.py:81\u001b[0m, in \u001b[0;36mjslink\u001b[0;34m(attr1, attr2)\u001b[0m\n\u001b[1;32m     65\u001b[0m \u001b[38;5;28;01mdef\u001b[39;00m\u001b[38;5;250m \u001b[39m\u001b[38;5;21mjslink\u001b[39m(attr1, attr2):\n\u001b[1;32m     66\u001b[0m \u001b[38;5;250m    \u001b[39m\u001b[38;5;124;03m\"\"\"Link two widget attributes on the frontend so they remain in sync.\u001b[39;00m\n\u001b[1;32m     67\u001b[0m \n\u001b[1;32m     68\u001b[0m \u001b[38;5;124;03m    The link is created in the front-end and does not rely on a roundtrip\u001b[39;00m\n\u001b[0;32m   (...)\u001b[0m\n\u001b[1;32m     79\u001b[0m \u001b[38;5;124;03m    >>> c = link((widget1, 'value'), (widget2, 'value'))\u001b[39;00m\n\u001b[1;32m     80\u001b[0m \u001b[38;5;124;03m    \"\"\"\u001b[39;00m\n\u001b[0;32m---> 81\u001b[0m     \u001b[38;5;28;01mreturn\u001b[39;00m \u001b[43mLink\u001b[49m\u001b[43m(\u001b[49m\u001b[43mattr1\u001b[49m\u001b[43m,\u001b[49m\u001b[43m \u001b[49m\u001b[43mattr2\u001b[49m\u001b[43m)\u001b[49m\n",
      "File \u001b[0;32m~/.conda/envs/geo/lib/python3.13/site-packages/ipywidgets/widgets/widget_link.py:58\u001b[0m, in \u001b[0;36mLink.__init__\u001b[0;34m(self, source, target, **kwargs)\u001b[0m\n\u001b[1;32m     56\u001b[0m kwargs[\u001b[38;5;124m'\u001b[39m\u001b[38;5;124msource\u001b[39m\u001b[38;5;124m'\u001b[39m] \u001b[38;5;241m=\u001b[39m source\n\u001b[1;32m     57\u001b[0m kwargs[\u001b[38;5;124m'\u001b[39m\u001b[38;5;124mtarget\u001b[39m\u001b[38;5;124m'\u001b[39m] \u001b[38;5;241m=\u001b[39m target\n\u001b[0;32m---> 58\u001b[0m \u001b[38;5;28;43msuper\u001b[39;49m\u001b[43m(\u001b[49m\u001b[43m)\u001b[49m\u001b[38;5;241;43m.\u001b[39;49m\u001b[38;5;21;43m__init__\u001b[39;49m\u001b[43m(\u001b[49m\u001b[38;5;241;43m*\u001b[39;49m\u001b[38;5;241;43m*\u001b[39;49m\u001b[43mkwargs\u001b[49m\u001b[43m)\u001b[49m\n",
      "File \u001b[0;32m~/.conda/envs/geo/lib/python3.13/site-packages/ipywidgets/widgets/widget.py:503\u001b[0m, in \u001b[0;36mWidget.__init__\u001b[0;34m(self, **kwargs)\u001b[0m\n\u001b[1;32m    501\u001b[0m \u001b[38;5;250m\u001b[39m\u001b[38;5;124;03m\"\"\"Public constructor\"\"\"\u001b[39;00m\n\u001b[1;32m    502\u001b[0m \u001b[38;5;28mself\u001b[39m\u001b[38;5;241m.\u001b[39m_model_id \u001b[38;5;241m=\u001b[39m kwargs\u001b[38;5;241m.\u001b[39mpop(\u001b[38;5;124m'\u001b[39m\u001b[38;5;124mmodel_id\u001b[39m\u001b[38;5;124m'\u001b[39m, \u001b[38;5;28;01mNone\u001b[39;00m)\n\u001b[0;32m--> 503\u001b[0m \u001b[38;5;28;43msuper\u001b[39;49m\u001b[43m(\u001b[49m\u001b[43m)\u001b[49m\u001b[38;5;241;43m.\u001b[39;49m\u001b[38;5;21;43m__init__\u001b[39;49m\u001b[43m(\u001b[49m\u001b[38;5;241;43m*\u001b[39;49m\u001b[38;5;241;43m*\u001b[39;49m\u001b[43mkwargs\u001b[49m\u001b[43m)\u001b[49m\n\u001b[1;32m    505\u001b[0m Widget\u001b[38;5;241m.\u001b[39m_call_widget_constructed(\u001b[38;5;28mself\u001b[39m)\n\u001b[1;32m    506\u001b[0m \u001b[38;5;28mself\u001b[39m\u001b[38;5;241m.\u001b[39mopen()\n",
      "File \u001b[0;32m~/.conda/envs/geo/lib/python3.13/site-packages/traitlets/traitlets.py:1355\u001b[0m, in \u001b[0;36mHasTraits.__init__\u001b[0;34m(self, *args, **kwargs)\u001b[0m\n\u001b[1;32m   1353\u001b[0m \u001b[38;5;28;01mfor\u001b[39;00m key, value \u001b[38;5;129;01min\u001b[39;00m kwargs\u001b[38;5;241m.\u001b[39mitems():\n\u001b[1;32m   1354\u001b[0m     \u001b[38;5;28;01mif\u001b[39;00m \u001b[38;5;28mself\u001b[39m\u001b[38;5;241m.\u001b[39mhas_trait(key):\n\u001b[0;32m-> 1355\u001b[0m         \u001b[38;5;28;43msetattr\u001b[39;49m\u001b[43m(\u001b[49m\u001b[38;5;28;43mself\u001b[39;49m\u001b[43m,\u001b[49m\u001b[43m \u001b[49m\u001b[43mkey\u001b[49m\u001b[43m,\u001b[49m\u001b[43m \u001b[49m\u001b[43mvalue\u001b[49m\u001b[43m)\u001b[49m\n\u001b[1;32m   1356\u001b[0m         changes[key] \u001b[38;5;241m=\u001b[39m Bunch(\n\u001b[1;32m   1357\u001b[0m             name\u001b[38;5;241m=\u001b[39mkey,\n\u001b[1;32m   1358\u001b[0m             old\u001b[38;5;241m=\u001b[39m\u001b[38;5;28;01mNone\u001b[39;00m,\n\u001b[0;32m   (...)\u001b[0m\n\u001b[1;32m   1361\u001b[0m             \u001b[38;5;28mtype\u001b[39m\u001b[38;5;241m=\u001b[39m\u001b[38;5;124m\"\u001b[39m\u001b[38;5;124mchange\u001b[39m\u001b[38;5;124m\"\u001b[39m,\n\u001b[1;32m   1362\u001b[0m         )\n\u001b[1;32m   1363\u001b[0m     \u001b[38;5;28;01melse\u001b[39;00m:\n\u001b[1;32m   1364\u001b[0m         \u001b[38;5;66;03m# passthrough args that don't set traits to super\u001b[39;00m\n",
      "File \u001b[0;32m~/.conda/envs/geo/lib/python3.13/site-packages/traitlets/traitlets.py:716\u001b[0m, in \u001b[0;36mTraitType.__set__\u001b[0;34m(self, obj, value)\u001b[0m\n\u001b[1;32m    714\u001b[0m \u001b[38;5;28;01mif\u001b[39;00m \u001b[38;5;28mself\u001b[39m\u001b[38;5;241m.\u001b[39mread_only:\n\u001b[1;32m    715\u001b[0m     \u001b[38;5;28;01mraise\u001b[39;00m TraitError(\u001b[38;5;124m'\u001b[39m\u001b[38;5;124mThe \u001b[39m\u001b[38;5;124m\"\u001b[39m\u001b[38;5;132;01m%s\u001b[39;00m\u001b[38;5;124m\"\u001b[39m\u001b[38;5;124m trait is read-only.\u001b[39m\u001b[38;5;124m'\u001b[39m \u001b[38;5;241m%\u001b[39m \u001b[38;5;28mself\u001b[39m\u001b[38;5;241m.\u001b[39mname)\n\u001b[0;32m--> 716\u001b[0m \u001b[38;5;28;43mself\u001b[39;49m\u001b[38;5;241;43m.\u001b[39;49m\u001b[43mset\u001b[49m\u001b[43m(\u001b[49m\u001b[43mobj\u001b[49m\u001b[43m,\u001b[49m\u001b[43m \u001b[49m\u001b[43mvalue\u001b[49m\u001b[43m)\u001b[49m\n",
      "File \u001b[0;32m~/.conda/envs/geo/lib/python3.13/site-packages/traitlets/traitlets.py:690\u001b[0m, in \u001b[0;36mTraitType.set\u001b[0;34m(self, obj, value)\u001b[0m\n\u001b[1;32m    689\u001b[0m \u001b[38;5;28;01mdef\u001b[39;00m\u001b[38;5;250m \u001b[39m\u001b[38;5;21mset\u001b[39m(\u001b[38;5;28mself\u001b[39m, obj: HasTraits, value: S) \u001b[38;5;241m-\u001b[39m\u001b[38;5;241m>\u001b[39m \u001b[38;5;28;01mNone\u001b[39;00m:\n\u001b[0;32m--> 690\u001b[0m     new_value \u001b[38;5;241m=\u001b[39m \u001b[38;5;28;43mself\u001b[39;49m\u001b[38;5;241;43m.\u001b[39;49m\u001b[43m_validate\u001b[49m\u001b[43m(\u001b[49m\u001b[43mobj\u001b[49m\u001b[43m,\u001b[49m\u001b[43m \u001b[49m\u001b[43mvalue\u001b[49m\u001b[43m)\u001b[49m\n\u001b[1;32m    691\u001b[0m     \u001b[38;5;28;01massert\u001b[39;00m \u001b[38;5;28mself\u001b[39m\u001b[38;5;241m.\u001b[39mname \u001b[38;5;129;01mis\u001b[39;00m \u001b[38;5;129;01mnot\u001b[39;00m \u001b[38;5;28;01mNone\u001b[39;00m\n\u001b[1;32m    692\u001b[0m     \u001b[38;5;28;01mtry\u001b[39;00m:\n",
      "File \u001b[0;32m~/.conda/envs/geo/lib/python3.13/site-packages/traitlets/traitlets.py:722\u001b[0m, in \u001b[0;36mTraitType._validate\u001b[0;34m(self, obj, value)\u001b[0m\n\u001b[1;32m    720\u001b[0m     \u001b[38;5;28;01mreturn\u001b[39;00m value\n\u001b[1;32m    721\u001b[0m \u001b[38;5;28;01mif\u001b[39;00m \u001b[38;5;28mhasattr\u001b[39m(\u001b[38;5;28mself\u001b[39m, \u001b[38;5;124m\"\u001b[39m\u001b[38;5;124mvalidate\u001b[39m\u001b[38;5;124m\"\u001b[39m):\n\u001b[0;32m--> 722\u001b[0m     value \u001b[38;5;241m=\u001b[39m \u001b[38;5;28;43mself\u001b[39;49m\u001b[38;5;241;43m.\u001b[39;49m\u001b[43mvalidate\u001b[49m\u001b[43m(\u001b[49m\u001b[43mobj\u001b[49m\u001b[43m,\u001b[49m\u001b[43m \u001b[49m\u001b[43mvalue\u001b[49m\u001b[43m)\u001b[49m\n\u001b[1;32m    723\u001b[0m \u001b[38;5;28;01mif\u001b[39;00m obj\u001b[38;5;241m.\u001b[39m_cross_validation_lock \u001b[38;5;129;01mis\u001b[39;00m \u001b[38;5;28;01mFalse\u001b[39;00m:\n\u001b[1;32m    724\u001b[0m     value \u001b[38;5;241m=\u001b[39m \u001b[38;5;28mself\u001b[39m\u001b[38;5;241m.\u001b[39m_cross_validate(obj, value)\n",
      "File \u001b[0;32m~/.conda/envs/geo/lib/python3.13/site-packages/traitlets/traitlets.py:3482\u001b[0m, in \u001b[0;36mContainer.validate\u001b[0;34m(self, obj, value)\u001b[0m\n\u001b[1;32m   3479\u001b[0m \u001b[38;5;28;01mif\u001b[39;00m value \u001b[38;5;129;01mis\u001b[39;00m \u001b[38;5;28;01mNone\u001b[39;00m:\n\u001b[1;32m   3480\u001b[0m     \u001b[38;5;28;01mreturn\u001b[39;00m value\n\u001b[0;32m-> 3482\u001b[0m value \u001b[38;5;241m=\u001b[39m \u001b[38;5;28;43mself\u001b[39;49m\u001b[38;5;241;43m.\u001b[39;49m\u001b[43mvalidate_elements\u001b[49m\u001b[43m(\u001b[49m\u001b[43mobj\u001b[49m\u001b[43m,\u001b[49m\u001b[43m \u001b[49m\u001b[43mvalue\u001b[49m\u001b[43m)\u001b[49m\n\u001b[1;32m   3484\u001b[0m \u001b[38;5;28;01mreturn\u001b[39;00m t\u001b[38;5;241m.\u001b[39mcast(T, value)\n",
      "File \u001b[0;32m~/.conda/envs/geo/lib/python3.13/site-packages/ipywidgets/widgets/widget_link.py:37\u001b[0m, in \u001b[0;36mWidgetTraitTuple.validate_elements\u001b[0;34m(self, obj, value)\u001b[0m\n\u001b[1;32m     34\u001b[0m \u001b[38;5;66;03m# Can't raise TraitError because the parent will swallow the message\u001b[39;00m\n\u001b[1;32m     35\u001b[0m \u001b[38;5;66;03m# and throw it away in a new, less informative TraitError\u001b[39;00m\n\u001b[1;32m     36\u001b[0m \u001b[38;5;28;01mif\u001b[39;00m trait \u001b[38;5;129;01mis\u001b[39;00m \u001b[38;5;28;01mNone\u001b[39;00m:\n\u001b[0;32m---> 37\u001b[0m     \u001b[38;5;28;01mraise\u001b[39;00m \u001b[38;5;167;01mTypeError\u001b[39;00m(\u001b[38;5;124m\"\u001b[39m\u001b[38;5;124mNo such trait: \u001b[39m\u001b[38;5;132;01m%s\u001b[39;00m\u001b[38;5;124m\"\u001b[39m \u001b[38;5;241m%\u001b[39m trait_repr)\n\u001b[1;32m     38\u001b[0m \u001b[38;5;28;01melif\u001b[39;00m \u001b[38;5;129;01mnot\u001b[39;00m trait\u001b[38;5;241m.\u001b[39mmetadata\u001b[38;5;241m.\u001b[39mget(\u001b[38;5;124m'\u001b[39m\u001b[38;5;124msync\u001b[39m\u001b[38;5;124m'\u001b[39m):\n\u001b[1;32m     39\u001b[0m     \u001b[38;5;28;01mraise\u001b[39;00m \u001b[38;5;167;01mTypeError\u001b[39;00m(\u001b[38;5;124m\"\u001b[39m\u001b[38;5;132;01m%s\u001b[39;00m\u001b[38;5;124m cannot be synced\u001b[39m\u001b[38;5;124m\"\u001b[39m \u001b[38;5;241m%\u001b[39m trait_repr)\n",
      "\u001b[0;31mTypeError\u001b[0m: No such trait: LayerGroup.visible"
     ]
    }
   ],
   "source": [
    "select_image(image10)"
   ]
  },
  {
   "cell_type": "code",
   "execution_count": 15,
   "id": "721a6257-9d1c-4882-acbf-33ffb9ad800e",
   "metadata": {},
   "outputs": [
    {
     "data": {
      "application/vnd.jupyter.widget-view+json": {
       "model_id": "fc3927b9c07840679c4e44d93b0130f6",
       "version_major": 2,
       "version_minor": 0
      },
      "text/plain": [
       "Map(center=[49.8652955, -99.98090350000001], controls=(ZoomControl(options=['position', 'zoom_in_text', 'zoom_…"
      ]
     },
     "execution_count": 15,
     "metadata": {},
     "output_type": "execute_result"
    }
   ],
   "source": [
    "m = sam.show_map()\n",
    "m\n"
   ]
  },
  {
   "cell_type": "code",
   "execution_count": 26,
   "id": "50945f35-b5d6-49c1-9a42-354dc2a76186",
   "metadata": {},
   "outputs": [
    {
     "name": "stdout",
     "output_type": "stream",
     "text": [
      "No valid pixel coordinates found.\n"
     ]
    },
    {
     "ename": "IndexError",
     "evalue": "index 0 is out of bounds for axis 0 with size 0",
     "output_type": "error",
     "traceback": [
      "\u001b[0;31m---------------------------------------------------------------------------\u001b[0m",
      "\u001b[0;31mIndexError\u001b[0m                                Traceback (most recent call last)",
      "Cell \u001b[0;32mIn[26], line 2\u001b[0m\n\u001b[1;32m      1\u001b[0m point_coords \u001b[38;5;241m=\u001b[39m [[\u001b[38;5;241m-\u001b[39m\u001b[38;5;241m122.1419\u001b[39m, \u001b[38;5;241m37.6383\u001b[39m]]\n\u001b[0;32m----> 2\u001b[0m \u001b[43msam\u001b[49m\u001b[38;5;241;43m.\u001b[39;49m\u001b[43mpredict\u001b[49m\u001b[43m(\u001b[49m\u001b[43mpoint_coords\u001b[49m\u001b[43m,\u001b[49m\u001b[43m \u001b[49m\u001b[43mpoint_labels\u001b[49m\u001b[38;5;241;43m=\u001b[39;49m\u001b[38;5;241;43m1\u001b[39;49m\u001b[43m,\u001b[49m\u001b[43m \u001b[49m\u001b[43mpoint_crs\u001b[49m\u001b[38;5;241;43m=\u001b[39;49m\u001b[38;5;124;43m\"\u001b[39;49m\u001b[38;5;124;43mEPSG:32614\u001b[39;49m\u001b[38;5;124;43m\"\u001b[39;49m\u001b[43m,\u001b[49m\u001b[43m \u001b[49m\u001b[43moutput\u001b[49m\u001b[38;5;241;43m=\u001b[39;49m\u001b[38;5;124;43m\"\u001b[39;49m\u001b[38;5;124;43mmask1.tif\u001b[39;49m\u001b[38;5;124;43m\"\u001b[39;49m\u001b[43m)\u001b[49m\n\u001b[1;32m      3\u001b[0m m\u001b[38;5;241m.\u001b[39madd_raster(\u001b[38;5;124m\"\u001b[39m\u001b[38;5;124mmask1.tif\u001b[39m\u001b[38;5;124m\"\u001b[39m, layer_name\u001b[38;5;241m=\u001b[39m\u001b[38;5;124m\"\u001b[39m\u001b[38;5;124mMask1\u001b[39m\u001b[38;5;124m\"\u001b[39m, nodata\u001b[38;5;241m=\u001b[39m\u001b[38;5;241m0\u001b[39m, cmap\u001b[38;5;241m=\u001b[39m\u001b[38;5;124m\"\u001b[39m\u001b[38;5;124mBlues\u001b[39m\u001b[38;5;124m\"\u001b[39m, opacity\u001b[38;5;241m=\u001b[39m\u001b[38;5;241m1\u001b[39m)\n\u001b[1;32m      4\u001b[0m m\n",
      "File \u001b[0;32m~/.conda/envs/geo/lib/python3.13/site-packages/samgeo/hq_sam.py:587\u001b[0m, in \u001b[0;36mSamGeo.predict\u001b[0;34m(self, point_coords, point_labels, boxes, point_crs, mask_input, multimask_output, return_logits, output, index, mask_multiplier, dtype, return_results, **kwargs)\u001b[0m\n\u001b[1;32m    585\u001b[0m     \u001b[38;5;28;01mif\u001b[39;00m \u001b[38;5;28misinstance\u001b[39m(boxes, \u001b[38;5;28mlist\u001b[39m) \u001b[38;5;129;01mand\u001b[39;00m \u001b[38;5;28misinstance\u001b[39m(boxes[\u001b[38;5;241m0\u001b[39m], \u001b[38;5;28mlist\u001b[39m):\n\u001b[1;32m    586\u001b[0m         boxes \u001b[38;5;241m=\u001b[39m boxes[\u001b[38;5;241m0\u001b[39m]\n\u001b[0;32m--> 587\u001b[0m     masks, scores, logits \u001b[38;5;241m=\u001b[39m \u001b[43mpredictor\u001b[49m\u001b[38;5;241;43m.\u001b[39;49m\u001b[43mpredict\u001b[49m\u001b[43m(\u001b[49m\n\u001b[1;32m    588\u001b[0m \u001b[43m        \u001b[49m\u001b[43mpoint_coords\u001b[49m\u001b[43m,\u001b[49m\n\u001b[1;32m    589\u001b[0m \u001b[43m        \u001b[49m\u001b[43mpoint_labels\u001b[49m\u001b[43m,\u001b[49m\n\u001b[1;32m    590\u001b[0m \u001b[43m        \u001b[49m\u001b[43minput_boxes\u001b[49m\u001b[43m,\u001b[49m\n\u001b[1;32m    591\u001b[0m \u001b[43m        \u001b[49m\u001b[43mmask_input\u001b[49m\u001b[43m,\u001b[49m\n\u001b[1;32m    592\u001b[0m \u001b[43m        \u001b[49m\u001b[43mmultimask_output\u001b[49m\u001b[43m,\u001b[49m\n\u001b[1;32m    593\u001b[0m \u001b[43m        \u001b[49m\u001b[43mreturn_logits\u001b[49m\u001b[43m,\u001b[49m\n\u001b[1;32m    594\u001b[0m \u001b[43m    \u001b[49m\u001b[43m)\u001b[49m\n\u001b[1;32m    595\u001b[0m \u001b[38;5;28;01melse\u001b[39;00m:\n\u001b[1;32m    596\u001b[0m     masks, scores, logits \u001b[38;5;241m=\u001b[39m predictor\u001b[38;5;241m.\u001b[39mpredict_torch(\n\u001b[1;32m    597\u001b[0m         point_coords\u001b[38;5;241m=\u001b[39mpoint_coords,\n\u001b[1;32m    598\u001b[0m         point_labels\u001b[38;5;241m=\u001b[39mpoint_coords,\n\u001b[1;32m    599\u001b[0m         boxes\u001b[38;5;241m=\u001b[39minput_boxes,\n\u001b[1;32m    600\u001b[0m         multimask_output\u001b[38;5;241m=\u001b[39m\u001b[38;5;28;01mTrue\u001b[39;00m,\n\u001b[1;32m    601\u001b[0m     )\n",
      "File \u001b[0;32m~/.conda/envs/geo/lib/python3.13/site-packages/segment_anything_hq/predictor.py:145\u001b[0m, in \u001b[0;36mSamPredictor.predict\u001b[0;34m(self, point_coords, point_labels, box, mask_input, multimask_output, return_logits, hq_token_only)\u001b[0m\n\u001b[1;32m    141\u001b[0m \u001b[38;5;28;01mif\u001b[39;00m point_coords \u001b[38;5;129;01mis\u001b[39;00m \u001b[38;5;129;01mnot\u001b[39;00m \u001b[38;5;28;01mNone\u001b[39;00m:\n\u001b[1;32m    142\u001b[0m     \u001b[38;5;28;01massert\u001b[39;00m (\n\u001b[1;32m    143\u001b[0m         point_labels \u001b[38;5;129;01mis\u001b[39;00m \u001b[38;5;129;01mnot\u001b[39;00m \u001b[38;5;28;01mNone\u001b[39;00m\n\u001b[1;32m    144\u001b[0m     ), \u001b[38;5;124m\"\u001b[39m\u001b[38;5;124mpoint_labels must be supplied if point_coords is supplied.\u001b[39m\u001b[38;5;124m\"\u001b[39m\n\u001b[0;32m--> 145\u001b[0m     point_coords \u001b[38;5;241m=\u001b[39m \u001b[38;5;28;43mself\u001b[39;49m\u001b[38;5;241;43m.\u001b[39;49m\u001b[43mtransform\u001b[49m\u001b[38;5;241;43m.\u001b[39;49m\u001b[43mapply_coords\u001b[49m\u001b[43m(\u001b[49m\u001b[43mpoint_coords\u001b[49m\u001b[43m,\u001b[49m\u001b[43m \u001b[49m\u001b[38;5;28;43mself\u001b[39;49m\u001b[38;5;241;43m.\u001b[39;49m\u001b[43moriginal_size\u001b[49m\u001b[43m)\u001b[49m\n\u001b[1;32m    146\u001b[0m     coords_torch \u001b[38;5;241m=\u001b[39m torch\u001b[38;5;241m.\u001b[39mas_tensor(point_coords, dtype\u001b[38;5;241m=\u001b[39mtorch\u001b[38;5;241m.\u001b[39mfloat, device\u001b[38;5;241m=\u001b[39m\u001b[38;5;28mself\u001b[39m\u001b[38;5;241m.\u001b[39mdevice)\n\u001b[1;32m    147\u001b[0m     labels_torch \u001b[38;5;241m=\u001b[39m torch\u001b[38;5;241m.\u001b[39mas_tensor(point_labels, dtype\u001b[38;5;241m=\u001b[39mtorch\u001b[38;5;241m.\u001b[39mint, device\u001b[38;5;241m=\u001b[39m\u001b[38;5;28mself\u001b[39m\u001b[38;5;241m.\u001b[39mdevice)\n",
      "File \u001b[0;32m~/.conda/envs/geo/lib/python3.13/site-packages/segment_anything_hq/utils/transforms.py:43\u001b[0m, in \u001b[0;36mResizeLongestSide.apply_coords\u001b[0;34m(self, coords, original_size)\u001b[0m\n\u001b[1;32m     39\u001b[0m new_h, new_w \u001b[38;5;241m=\u001b[39m \u001b[38;5;28mself\u001b[39m\u001b[38;5;241m.\u001b[39mget_preprocess_shape(\n\u001b[1;32m     40\u001b[0m     original_size[\u001b[38;5;241m0\u001b[39m], original_size[\u001b[38;5;241m1\u001b[39m], \u001b[38;5;28mself\u001b[39m\u001b[38;5;241m.\u001b[39mtarget_length\n\u001b[1;32m     41\u001b[0m )\n\u001b[1;32m     42\u001b[0m coords \u001b[38;5;241m=\u001b[39m deepcopy(coords)\u001b[38;5;241m.\u001b[39mastype(\u001b[38;5;28mfloat\u001b[39m)\n\u001b[0;32m---> 43\u001b[0m coords[\u001b[38;5;241m.\u001b[39m\u001b[38;5;241m.\u001b[39m\u001b[38;5;241m.\u001b[39m, \u001b[38;5;241m0\u001b[39m] \u001b[38;5;241m=\u001b[39m \u001b[43mcoords\u001b[49m\u001b[43m[\u001b[49m\u001b[38;5;241;43m.\u001b[39;49m\u001b[38;5;241;43m.\u001b[39;49m\u001b[38;5;241;43m.\u001b[39;49m\u001b[43m,\u001b[49m\u001b[43m \u001b[49m\u001b[38;5;241;43m0\u001b[39;49m\u001b[43m]\u001b[49m \u001b[38;5;241m*\u001b[39m (new_w \u001b[38;5;241m/\u001b[39m old_w)\n\u001b[1;32m     44\u001b[0m coords[\u001b[38;5;241m.\u001b[39m\u001b[38;5;241m.\u001b[39m\u001b[38;5;241m.\u001b[39m, \u001b[38;5;241m1\u001b[39m] \u001b[38;5;241m=\u001b[39m coords[\u001b[38;5;241m.\u001b[39m\u001b[38;5;241m.\u001b[39m\u001b[38;5;241m.\u001b[39m, \u001b[38;5;241m1\u001b[39m] \u001b[38;5;241m*\u001b[39m (new_h \u001b[38;5;241m/\u001b[39m old_h)\n\u001b[1;32m     45\u001b[0m \u001b[38;5;28;01mreturn\u001b[39;00m coords\n",
      "\u001b[0;31mIndexError\u001b[0m: index 0 is out of bounds for axis 0 with size 0"
     ]
    }
   ],
   "source": [
    "point_coords = [[-122.1419, 37.6383]]\n",
    "sam.predict(point_coords, point_labels=1, point_crs=\"EPSG:32614\", output=\"mask1.tif\")\n",
    "m.add_raster(\"mask1.tif\", layer_name=\"Mask1\", nodata=0, cmap=\"Blues\", opacity=1)\n",
    "m\n",
    "\n",
    "point_coords = [[-122.1464, 37.6431], [-122.1449, 37.6415], [-122.1451, 37.6395]]\n",
    "sam.predict(point_coords, point_labels=1, point_crs=\"EPSG:32614\", output=\"mask2.tif\")\n",
    "m.add_raster(\"mask2.tif\", layer_name=\"Mask2\", nodata=0, cmap=\"Greens\", opacity=1)\n",
    "m"
   ]
  },
  {
   "cell_type": "code",
   "execution_count": 38,
   "id": "64216514-6548-410a-9f58-a1a06e1e7e26",
   "metadata": {},
   "outputs": [],
   "source": [
    "# &&& add 5-counter polygons to map"
   ]
  },
  {
   "cell_type": "code",
   "execution_count": null,
   "id": "0548de85-dff9-4ae1-9db5-ae1064dd1cc1",
   "metadata": {},
   "outputs": [],
   "source": [
    "# &&& segment with scripted negative points\n",
    "sam.predict(point_coords, point_labels=1, point_crs=\"EPSG:32614\", output=\"mask1.tif\")\n",
    "point_labels, 1 fg 0 bg"
   ]
  },
  {
   "cell_type": "code",
   "execution_count": null,
   "id": "3768898a-95bb-44d8-a91b-5bca80ba40fd",
   "metadata": {},
   "outputs": [],
   "source": [
    "# &&& show points function, []to map\n",
    "# &&& print current points function, map to []\n",
    "# &&& show mask function\n",
    "# &&& makseg function, args: maskName layerName points opt show points show mask"
   ]
  },
  {
   "cell_type": "code",
   "execution_count": null,
   "id": "8968ab00-5c68-492b-92ca-fe0377483fc3",
   "metadata": {},
   "outputs": [],
   "source": [
    "# &&& check positions are correct in qgis"
   ]
  },
  {
   "cell_type": "code",
   "execution_count": null,
   "id": "cde89200-2da8-46e4-bb94-cfb2c0e55356",
   "metadata": {},
   "outputs": [],
   "source": [
    "makseg(\"seg_1\", image10, points = [[-122.1419, 37.6383]], notpoints = [[-122.1419, 37.6383]], showp=True, showmk=True) \n",
    "# 2\n",
    "# 3 not in field\n",
    "# ...\n",
    "# 1010"
   ]
  }
 ],
 "metadata": {
  "kernelspec": {
   "display_name": "Python 3 (ipykernel)",
   "language": "python",
   "name": "python3"
  },
  "language_info": {
   "codemirror_mode": {
    "name": "ipython",
    "version": 3
   },
   "file_extension": ".py",
   "mimetype": "text/x-python",
   "name": "python",
   "nbconvert_exporter": "python",
   "pygments_lexer": "ipython3",
   "version": "3.13.1"
  }
 },
 "nbformat": 4,
 "nbformat_minor": 5
}
